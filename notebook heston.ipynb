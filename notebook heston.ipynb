{
 "cells": [
  {
   "cell_type": "markdown",
   "id": "72635833",
   "metadata": {},
   "source": [
    "# Modèle d'Heston"
   ]
  },
  {
   "cell_type": "markdown",
   "id": "f1175e9a",
   "metadata": {},
   "source": [
    "Ce notebook présente plusieurs portions du code que nous avons utilisé pour calibrer le modèle d'Heston. On présentera l'obtention des données, et les algorithmes utilisés pour la calibration du modèle."
   ]
  },
  {
   "cell_type": "code",
   "execution_count": 1,
   "id": "ef3324e9",
   "metadata": {},
   "outputs": [],
   "source": [
    "#### Importation des librairies\n",
    "library(MASS)\n",
    "library(httr)\n",
    "library(jsonlite)\n",
    "library(rgl)"
   ]
  },
  {
   "cell_type": "markdown",
   "id": "ad49928e",
   "metadata": {},
   "source": [
    "## Récupération des données"
   ]
  },
  {
   "cell_type": "markdown",
   "id": "6dd48db9",
   "metadata": {},
   "source": [
    "On présente ici le code afin d'obtenir les données sur les options. On peut modifier le sous-jacent étudié et le cours actuel du sous-jacent est à rentrer manuellement."
   ]
  },
  {
   "cell_type": "code",
   "execution_count": null,
   "id": "f0aa29b5",
   "metadata": {},
   "outputs": [],
   "source": [
    "#### données (sous-jacent,date, etc..)\n",
    "\n",
    "actif_sous_jacent <- \"AAPL\"\n",
    "\n",
    "date_initiale <- as.numeric (as.POSIXct (Sys.time ()))\n",
    "\n",
    "S_ <- 161.79\n",
    "\n",
    "\n",
    "#On construit la base de données (automatisation)\n",
    "\n",
    "url <- \"https://yh-finance.p.rapidapi.com/stock/v2/get-options\"\n",
    "\n",
    "queryString <- list(\n",
    "  symbol = actif_sous_jacent,\n",
    "  region = \"US\"\n",
    ")\n",
    "\n",
    "response <- VERB(\"GET\", url, add_headers('X-RapidAPI-Host' = 'yh-finance.p.rapidapi.com', 'X-RapidAPI-Key' = ''), query = queryString)\n",
    "\n",
    "#il faut insérer X-RapidAPI-Key (clé personelle)\n",
    "\n",
    "data<- fromJSON(rawToChar(response$content))\n",
    "\n",
    "echeances <- data$meta$expirationDates #accéder aux dates\n",
    "\n",
    "######\n",
    "transi <- data$contracts$calls[,c(\"strike\",\"ask\",\"bid\",\"expiration\")]\n",
    "options <- cbind(transi$strike$raw,transi$ask$raw,\n",
    "                 transi$bid$raw,transi$expiration$raw)\n",
    "for(k in 1:length(echeances)){\n",
    "  queryString <- list(\n",
    "    symbol = actif_sous_jacent,\n",
    "    date = echeances[k],\n",
    "    region = \"US\"\n",
    "  )\n",
    "  response <- VERB(\"GET\", url, add_headers('X-RapidAPI-Host' = 'yh-finance.p.rapidapi.com', 'X-RapidAPI-Key' = '8bbb8947bdmsh782b2f6aa73cfc4p12800ajsn414e973da860'), query = queryString)\n",
    "  databis<- fromJSON(rawToChar(response$content))\n",
    "  \n",
    "  transi <- databis$contracts$calls[,c(\"strike\",\"ask\",\"bid\",\"expiration\")]\n",
    "  optionsbis <- cbind(transi$strike$raw,transi$ask$raw,\n",
    "                      transi$bid$raw,transi$expiration$raw)\n",
    "  \n",
    "  \n",
    "  options <- rbind(options,optionsbis)\n",
    "}\n",
    "\n",
    "#cette base de données peut contenir des N.A\n",
    "\n",
    "options<-options[!is.na(options[,2]),]\n",
    "\n"
   ]
  },
  {
   "cell_type": "markdown",
   "id": "0b86b97b",
   "metadata": {},
   "source": [
    "### Illustration  de la nappe de prix observée"
   ]
  },
  {
   "cell_type": "code",
   "execution_count": null,
   "id": "bce15549",
   "metadata": {},
   "outputs": [],
   "source": [
    "#### Essai nappe prix\n",
    "\n",
    "x<-options[,1]\n",
    "y<-(options[,4] - rep(date_initiale,length(x)))/31536000\n",
    "z_mid_price<-(options[,2]+options[,3])/2\n",
    "plot3d(x,y,z_mid_price,type=\"p\",col=\"purple\",xlab=\"strike\",ylab=\"echeance\",zlab=\"prix\" )"
   ]
  },
  {
   "cell_type": "markdown",
   "id": "6160b8db",
   "metadata": {},
   "source": [
    "## Implémentation de la formule du prix d'un call"
   ]
  },
  {
   "cell_type": "code",
   "execution_count": null,
   "id": "d0b09eef",
   "metadata": {},
   "outputs": [],
   "source": [
    "##### Fonctions donnant la formule de prix\n",
    "\n",
    "i=complex(1,real=0,imaginary=1)\n",
    "\n",
    "#Dans la suite du code:\n",
    "#       volsj --> volatilité du sous-jacent (dans BS)\n",
    "#       rho --> coeff de corrélation entre les deux browniens\n",
    "#       sigma --> volatilité de la volatilité du sous-jacent\n",
    "#       lambda --> prix de marché du risque de volatilité\n",
    "#       tau --> durée avant l'écéhance (tf - t)\n",
    "#       k --> force de rappel de la variance du sous-jacent\n",
    "#       teta --> variance asymptotique du sous-jacent\n",
    "#       V --> variance du sous-jacent à l'instant 0 \n",
    "\n",
    "\n",
    "\n",
    "\n",
    "#On définit les fonctions pour pricer dans le modèle d'Heston\n",
    "\n",
    "#Fonctions qui interviennent dans le prix du call\n",
    "#dans le modèle d'Heston\n",
    "\n",
    "\n",
    "\n",
    "d <- function(rho,sigma,b,u,z){\n",
    "  return((   ((rho*sigma*z*i - b)^2) - (sigma^2)*(2*u*z*i - (z^2)) )^(1/2))\n",
    "}\n",
    "\n",
    "g <- function(rho,sigma,b,u,z){\n",
    "  d_=d(rho,sigma,b,u,z)\n",
    "  return((b - rho*sigma*z*i + d_ )/(b - rho*sigma*z*i - d_))\n",
    "}\n",
    "\n",
    "B <- function(rho,sigma,b,u,tau,z){\n",
    "  d_=d(rho,sigma,b,u,z)\n",
    "  g_=g(rho,sigma,b,u,z)\n",
    "  T1=((b-rho*sigma*z*i+ d_)/(sigma^2))\n",
    "  T2=(1-exp(d_*tau))/(1-g_*exp(d_*tau))\n",
    "  return (T1*T2)\n",
    "}\n",
    "\n",
    "A<- function(rho,sigma,b,u,r,tau,k,teta,z){\n",
    "  a=k*teta\n",
    "  d_=d(rho,sigma,b,u,z)\n",
    "  g_=g(rho,sigma,b,u,z)\n",
    "  T2=(1 - g_*exp(d_*tau))/(1 - g_)\n",
    "  return(r*z*i*tau + (a/(sigma^2))*((b-rho*sigma*z*i + d_)*tau - 2*log(T2) ) )\n",
    "}\n",
    "\n",
    "f <- function(S,K,V,rho,sigma,b,u,r,tau,k,teta,z){\n",
    "  A_=A(rho,sigma,b,u,r,tau,k,teta,z)\n",
    "  B_= B(rho,sigma,b,u,tau,z)\n",
    "  x=log(S)\n",
    "  return(exp(A_ + B_*V +i*z*x))\n",
    "}\n",
    "\n",
    "f_c_i <- function(z,S,K,V,rho,sigma,b,u,r,tau,k,teta){\n",
    "  f_=f(S,K,V,rho,sigma,b,u,r,tau,k,teta,z)\n",
    "  return(Re(((exp(-i*z*log(K)))*f_)/(i*z)))\n",
    "}\n",
    "\n",
    "prix_heston <- function(S,K,V,rho,sigma,r,tf,t,k,teta,lambda){\n",
    "  tau=(tf-t)/31536000\n",
    "  u1=1/2\n",
    "  u2=-1/2\n",
    "  b1=k- rho*sigma + lambda\n",
    "  b2=k + lambda\n",
    "  \n",
    "  pas<-1/100\n",
    "  I1<-0\n",
    "  I2<-0\n",
    "  X<-seq(0,100,pas)\n",
    "  for(j in 2:10001){\n",
    "    Z<-X[j]\n",
    "    I1<-I1 + pas*f_c_i(Z,S,K,V,rho,sigma,b1,u1,r,tau,k,teta)\n",
    "    I2<-I2 + pas*f_c_i(Z,S,K,V,rho,sigma,b2,u2,r,tau,k,teta)\n",
    "  }\n",
    "  \n",
    "  P1= (1/2) + (1/pi)*I1\n",
    "  P2= (1/2) + (1/pi)*I2\n",
    "  \n",
    "  return (S*P1 - K*exp(-r*tau)*P2)\n",
    "}\n"
   ]
  },
  {
   "cell_type": "markdown",
   "id": "1f5645d8",
   "metadata": {},
   "source": [
    "## Calibration du modèle"
   ]
  },
  {
   "cell_type": "markdown",
   "id": "fde378f1",
   "metadata": {},
   "source": [
    "Ici, on implémente à proprement parler la distance entre les prix observés et les prix prédits par le modèle ainsi qu'un algorithme servant à minimiser cette distance."
   ]
  },
  {
   "cell_type": "code",
   "execution_count": null,
   "id": "3fcb6e10",
   "metadata": {},
   "outputs": [],
   "source": [
    "#### Problème de minimisation\n",
    "\n",
    "\n",
    "\n",
    "\n",
    "omega <- function(K){\n",
    "  return(exp(-10*abs((S_/K)-1)))\n",
    "}\n",
    "\n",
    "\n",
    "\n",
    "r_opti<-0.02469  # ln(1+R) avec R le taux sans risque américain d'échéance 2 ans (nos options ont généralement une maturité inférieure à 2 ans)\n",
    "\n",
    "\n",
    "erreur_quadratique_heston <- function(rho,k,teta,V,sigma,lambda){\n",
    "  return(sum(omega(options[,1])*((((options[,2]+options[,3])/2)-prix_heston(S_,options[,1],V,rho,sigma,r_opti,\n",
    "                                                                            options[,4],date_initiale,k,teta,lambda))^2)))\n",
    "}\n",
    "#Cette fonction renvoie la somme des différences au carré\n",
    "#des écarts entre le prix observé et le prix prédit par Heston en fonction\n",
    "#des différents paramètres.\n",
    "\n",
    "G <- function(p){\n",
    "  return(erreur_quadratique_heston(p[1],p[2],p[3],p[4],p[5],p[6]))\n",
    "  \n",
    "} \n",
    "#Cette fonction renvoie la même chose que\n",
    "#erreur_quadratique_heston mais prend en entrée\n",
    "#un vecteur.\n",
    "\n",
    "\n",
    "gradient_heston <- function(p){\n",
    "  M<-rep(0,6)\n",
    "  R<-G(p)\n",
    "  M[1]<-100*(erreur_quadratique_heston(p[1]+1/100,p[2],p[3],p[4],p[5],p[6])-R)\n",
    "  M[2]<-100*(erreur_quadratique_heston(p[1],p[2]+1/100,p[3],p[4],p[5],p[6])-R)\n",
    "  M[3]<-100*(erreur_quadratique_heston(p[1],p[2],p[3]+1/100,p[4],p[5],p[6])-R)\n",
    "  M[4]<-100*(erreur_quadratique_heston(p[1],p[2],p[3],p[4]+1/100,p[5],p[6])-R)\n",
    "  M[5]<-100*(erreur_quadratique_heston(p[1],p[2],p[3],p[4],p[5]+1/100,p[6])-R)\n",
    "  M[6]<-100*(erreur_quadratique_heston(p[1],p[2],p[3],p[4],p[5],p[6]+1/100)-R)\n",
    "  return(M)\n",
    "}\n",
    "\n",
    "#3min30\n",
    "\n",
    "projecteur_K <- function(p){\n",
    "  pk<-rep(0,length(p))\n",
    "  pk[1]<-max(-1,min(p[1],1))\n",
    "  pk[2]<-max(0,p[2])\n",
    "  pk[3]<-max(0,p[3])\n",
    "  pk[4]<-max(0,p[4])\n",
    "  pk[5]<-max(0,p[5])\n",
    "  pk[6]<-max(0,p[6])\n",
    "  return(pk)\n",
    "}\n",
    "\n",
    "descente_gradient_pas_fixe_heston <- function(départ,iterations){\n",
    "    j=0\n",
    "    epsilon<-1/10\n",
    "    p0<-départ\n",
    "    gr<-gradient_heston(p0)\n",
    "    if(gr==rep(0,6)){return(p0)}\n",
    "    pas<-1/(100*max(abs(gr)))\n",
    "    p1<-projecteur_K(p0 - pas*gr)\n",
    "  while((abs(G(p0)-G(p1))>epsilon)&&(j<iterations)){\n",
    "    p0<-p1\n",
    "    gr<-gradient_heston(p0)\n",
    "    if(gr==rep(0,6)){return(p0)}\n",
    "    pas<-1/(100*max(abs(gr)))\n",
    "    p1<-projecteur_K(p0 - pas*gr)\n",
    "    j=j+1\n",
    "  }\n",
    "  print(j)\n",
    "  return(p0)\n",
    "}\n",
    "\n",
    "#p_opti<-descente_gradient_pas_fixe_heston(c(-0.5,1,1,1,1,1),200)[1:6]\n",
    "\n",
    "p_opti<-c(-0.3537,0.1761,2.7343,0,0.9107,3.339) #vecteur (rho,k,teta,V,sigma,lambda)\n"
   ]
  },
  {
   "cell_type": "markdown",
   "id": "460b46d4",
   "metadata": {},
   "source": [
    "## Indicateurs de distance  "
   ]
  },
  {
   "cell_type": "markdown",
   "id": "ede67ecf",
   "metadata": {},
   "source": [
    "On définit ici le RWMSE (Root Weight Mean Square Error) qui mesure l'écart entre les prédictions et la réalité"
   ]
  },
  {
   "cell_type": "code",
   "execution_count": null,
   "id": "35474b32",
   "metadata": {},
   "outputs": [],
   "source": [
    "##### Calcul du RWMSE\n",
    "\n",
    "poids <- function(K){\n",
    "  return(omega(K)/sum(omega(options[,1])))\n",
    "}\n",
    "\n",
    "RWMSE <- function(rho,k,teta,V,sigma,lambda){\n",
    "  return(sqrt(sum(poids(options[,1])*((((options[,2]+options[,3])/2)-prix_heston(S_,options[,1],V,rho,sigma,r_opti,\n",
    "                                                                     options[,4],date_initiale,k,teta,lambda))^2))))\n",
    "}"
   ]
  },
  {
   "cell_type": "markdown",
   "id": "ea59e1f2",
   "metadata": {},
   "source": [
    "### Illustration de la nappe de prix prédite et de la nappe de prix observée"
   ]
  },
  {
   "cell_type": "code",
   "execution_count": null,
   "id": "c6cd4b1f",
   "metadata": {},
   "outputs": [],
   "source": [
    "##### Nappes de prix\n",
    "\n",
    "prix<- prix_heston(S_,options[,1],0,-0.3537,0.9107,0.03,options[,4],date_initiale,0.1761,2.7344,3.339)\n",
    "z<-(options[,2]+options[,3])/2\n",
    "\n",
    "open3d()\n",
    "plot3d(x,y,z,type=\"p\",col=\"purple\",xlab=\"strike\",ylab=\"echeance\",zlab=\"prix\" )\n",
    "open3d()\n",
    "plot3d(x,y,prix,type=\"p\",col=\"red\",xlab=\"strike\",ylab=\"echeance\",zlab=\"prix\")\n"
   ]
  },
  {
   "cell_type": "markdown",
   "id": "e795291e",
   "metadata": {},
   "source": [
    "## Générateur de trajectoires sous la MME"
   ]
  },
  {
   "cell_type": "markdown",
   "id": "17b1f77f",
   "metadata": {},
   "source": [
    "Nous définissons une fonction qui génère des trajectoires du sous-jacent à partir des paramètres du modèle calibré."
   ]
  },
  {
   "cell_type": "code",
   "execution_count": null,
   "id": "cb4489cd",
   "metadata": {},
   "outputs": [],
   "source": [
    "#################### trajectoires du sous jacent\n",
    "\n",
    "\n",
    "\n",
    "graph1<-function(S_0){\n",
    "  X<-seq(0,1,1/365)\n",
    "  Y1<-rep(0,length(X))\n",
    "  Y2<-rep(0,length(X))\n",
    "  Y1[1]<-S_0\n",
    "  Y2[1]<- p_opti[4]\n",
    "  for(k in 2:length(Y1)){\n",
    "    U<-mvrnorm(n=1,mu=c(0,0),Sigma=rbind(c(1/365,p_opti[1]/365),c(p_opti[1]/365,1/365)))\n",
    "    Y1[k]<-Y1[k-1]+ r_opti*Y1[k-1]*(X[k]-X[k-1]) + sqrt(Y2[k-1])*Y1[k-1]*U[1]\n",
    "    Y2[k]<-max(Y2[k-1] + (p_opti[2]+p_opti[6])*(((p_opti[2]*p_opti[3])/(p_opti[2]+p_opti[6]))-Y2[k-1])*(X[k]-X[k-1]) + p_opti[5]*sqrt(Y2[k-1])*U[2],0) \n",
    "    \n",
    "  }\n",
    "  plot(X,Y1,type=\"l\")\n",
    "  \n",
    "}\n",
    "\n",
    "#(-0.3537,0.1761,2.7343,0,0.9107,3.339) vecteur (rho,k,teta,V,sigma,lambda) optimal\n",
    "\n",
    "#en univers risque neutre : k* = k + lambda ; teta*=kteta/k*\n",
    "\n",
    "\n"
   ]
  },
  {
   "cell_type": "code",
   "execution_count": null,
   "id": "86986ec3",
   "metadata": {},
   "outputs": [],
   "source": []
  }
 ],
 "metadata": {
  "kernelspec": {
   "display_name": "R",
   "language": "R",
   "name": "ir"
  },
  "language_info": {
   "codemirror_mode": "r",
   "file_extension": ".r",
   "mimetype": "text/x-r-source",
   "name": "R",
   "pygments_lexer": "r",
   "version": "3.6.1"
  }
 },
 "nbformat": 4,
 "nbformat_minor": 5
}
